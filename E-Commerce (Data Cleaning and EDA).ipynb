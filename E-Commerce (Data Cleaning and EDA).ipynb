{
 "cells": [
  {
   "cell_type": "markdown",
   "id": "0541fdc5",
   "metadata": {},
   "source": [
    "# 1. Understanding the Data"
   ]
  },
  {
   "cell_type": "code",
   "execution_count": 235,
   "id": "7ac5dbe0",
   "metadata": {},
   "outputs": [],
   "source": [
    "#Import libraries needed\n",
    "import pandas as pd\n",
    "import seaborn as sns\n",
    "import numpy as np\n",
    "import matplotlib.pyplot as plt\n",
    "import statistics as stat"
   ]
  },
  {
   "cell_type": "code",
   "execution_count": 236,
   "id": "d6c3afea",
   "metadata": {
    "scrolled": true
   },
   "outputs": [
    {
     "data": {
      "text/html": [
       "<div>\n",
       "<style scoped>\n",
       "    .dataframe tbody tr th:only-of-type {\n",
       "        vertical-align: middle;\n",
       "    }\n",
       "\n",
       "    .dataframe tbody tr th {\n",
       "        vertical-align: top;\n",
       "    }\n",
       "\n",
       "    .dataframe thead th {\n",
       "        text-align: right;\n",
       "    }\n",
       "</style>\n",
       "<table border=\"1\" class=\"dataframe\">\n",
       "  <thead>\n",
       "    <tr style=\"text-align: right;\">\n",
       "      <th></th>\n",
       "      <th>InvoiceNo</th>\n",
       "      <th>StockCode</th>\n",
       "      <th>Description</th>\n",
       "      <th>Quantity</th>\n",
       "      <th>InvoiceDate</th>\n",
       "      <th>UnitPrice</th>\n",
       "      <th>CustomerID</th>\n",
       "      <th>Country</th>\n",
       "    </tr>\n",
       "  </thead>\n",
       "  <tbody>\n",
       "    <tr>\n",
       "      <th>0</th>\n",
       "      <td>536365</td>\n",
       "      <td>85123A</td>\n",
       "      <td>WHITE HANGING HEART T-LIGHT HOLDER</td>\n",
       "      <td>6</td>\n",
       "      <td>12/1/2010 8:26</td>\n",
       "      <td>2.55</td>\n",
       "      <td>17850.0</td>\n",
       "      <td>United Kingdom</td>\n",
       "    </tr>\n",
       "    <tr>\n",
       "      <th>1</th>\n",
       "      <td>536365</td>\n",
       "      <td>71053</td>\n",
       "      <td>WHITE METAL LANTERN</td>\n",
       "      <td>6</td>\n",
       "      <td>12/1/2010 8:26</td>\n",
       "      <td>3.39</td>\n",
       "      <td>17850.0</td>\n",
       "      <td>United Kingdom</td>\n",
       "    </tr>\n",
       "    <tr>\n",
       "      <th>2</th>\n",
       "      <td>536365</td>\n",
       "      <td>84406B</td>\n",
       "      <td>CREAM CUPID HEARTS COAT HANGER</td>\n",
       "      <td>8</td>\n",
       "      <td>12/1/2010 8:26</td>\n",
       "      <td>2.75</td>\n",
       "      <td>17850.0</td>\n",
       "      <td>United Kingdom</td>\n",
       "    </tr>\n",
       "    <tr>\n",
       "      <th>3</th>\n",
       "      <td>536365</td>\n",
       "      <td>84029G</td>\n",
       "      <td>KNITTED UNION FLAG HOT WATER BOTTLE</td>\n",
       "      <td>6</td>\n",
       "      <td>12/1/2010 8:26</td>\n",
       "      <td>3.39</td>\n",
       "      <td>17850.0</td>\n",
       "      <td>United Kingdom</td>\n",
       "    </tr>\n",
       "    <tr>\n",
       "      <th>4</th>\n",
       "      <td>536365</td>\n",
       "      <td>84029E</td>\n",
       "      <td>RED WOOLLY HOTTIE WHITE HEART.</td>\n",
       "      <td>6</td>\n",
       "      <td>12/1/2010 8:26</td>\n",
       "      <td>3.39</td>\n",
       "      <td>17850.0</td>\n",
       "      <td>United Kingdom</td>\n",
       "    </tr>\n",
       "    <tr>\n",
       "      <th>...</th>\n",
       "      <td>...</td>\n",
       "      <td>...</td>\n",
       "      <td>...</td>\n",
       "      <td>...</td>\n",
       "      <td>...</td>\n",
       "      <td>...</td>\n",
       "      <td>...</td>\n",
       "      <td>...</td>\n",
       "    </tr>\n",
       "    <tr>\n",
       "      <th>541904</th>\n",
       "      <td>581587</td>\n",
       "      <td>22613</td>\n",
       "      <td>PACK OF 20 SPACEBOY NAPKINS</td>\n",
       "      <td>12</td>\n",
       "      <td>12/9/2011 12:50</td>\n",
       "      <td>0.85</td>\n",
       "      <td>12680.0</td>\n",
       "      <td>France</td>\n",
       "    </tr>\n",
       "    <tr>\n",
       "      <th>541905</th>\n",
       "      <td>581587</td>\n",
       "      <td>22899</td>\n",
       "      <td>CHILDREN'S APRON DOLLY GIRL</td>\n",
       "      <td>6</td>\n",
       "      <td>12/9/2011 12:50</td>\n",
       "      <td>2.10</td>\n",
       "      <td>12680.0</td>\n",
       "      <td>France</td>\n",
       "    </tr>\n",
       "    <tr>\n",
       "      <th>541906</th>\n",
       "      <td>581587</td>\n",
       "      <td>23254</td>\n",
       "      <td>CHILDRENS CUTLERY DOLLY GIRL</td>\n",
       "      <td>4</td>\n",
       "      <td>12/9/2011 12:50</td>\n",
       "      <td>4.15</td>\n",
       "      <td>12680.0</td>\n",
       "      <td>France</td>\n",
       "    </tr>\n",
       "    <tr>\n",
       "      <th>541907</th>\n",
       "      <td>581587</td>\n",
       "      <td>23255</td>\n",
       "      <td>CHILDRENS CUTLERY CIRCUS PARADE</td>\n",
       "      <td>4</td>\n",
       "      <td>12/9/2011 12:50</td>\n",
       "      <td>4.15</td>\n",
       "      <td>12680.0</td>\n",
       "      <td>France</td>\n",
       "    </tr>\n",
       "    <tr>\n",
       "      <th>541908</th>\n",
       "      <td>581587</td>\n",
       "      <td>22138</td>\n",
       "      <td>BAKING SET 9 PIECE RETROSPOT</td>\n",
       "      <td>3</td>\n",
       "      <td>12/9/2011 12:50</td>\n",
       "      <td>4.95</td>\n",
       "      <td>12680.0</td>\n",
       "      <td>France</td>\n",
       "    </tr>\n",
       "  </tbody>\n",
       "</table>\n",
       "<p>541909 rows × 8 columns</p>\n",
       "</div>"
      ],
      "text/plain": [
       "       InvoiceNo StockCode                          Description  Quantity  \\\n",
       "0         536365    85123A   WHITE HANGING HEART T-LIGHT HOLDER         6   \n",
       "1         536365     71053                  WHITE METAL LANTERN         6   \n",
       "2         536365    84406B       CREAM CUPID HEARTS COAT HANGER         8   \n",
       "3         536365    84029G  KNITTED UNION FLAG HOT WATER BOTTLE         6   \n",
       "4         536365    84029E       RED WOOLLY HOTTIE WHITE HEART.         6   \n",
       "...          ...       ...                                  ...       ...   \n",
       "541904    581587     22613          PACK OF 20 SPACEBOY NAPKINS        12   \n",
       "541905    581587     22899         CHILDREN'S APRON DOLLY GIRL          6   \n",
       "541906    581587     23254        CHILDRENS CUTLERY DOLLY GIRL          4   \n",
       "541907    581587     23255      CHILDRENS CUTLERY CIRCUS PARADE         4   \n",
       "541908    581587     22138        BAKING SET 9 PIECE RETROSPOT          3   \n",
       "\n",
       "            InvoiceDate  UnitPrice  CustomerID         Country  \n",
       "0        12/1/2010 8:26       2.55     17850.0  United Kingdom  \n",
       "1        12/1/2010 8:26       3.39     17850.0  United Kingdom  \n",
       "2        12/1/2010 8:26       2.75     17850.0  United Kingdom  \n",
       "3        12/1/2010 8:26       3.39     17850.0  United Kingdom  \n",
       "4        12/1/2010 8:26       3.39     17850.0  United Kingdom  \n",
       "...                 ...        ...         ...             ...  \n",
       "541904  12/9/2011 12:50       0.85     12680.0          France  \n",
       "541905  12/9/2011 12:50       2.10     12680.0          France  \n",
       "541906  12/9/2011 12:50       4.15     12680.0          France  \n",
       "541907  12/9/2011 12:50       4.15     12680.0          France  \n",
       "541908  12/9/2011 12:50       4.95     12680.0          France  \n",
       "\n",
       "[541909 rows x 8 columns]"
      ]
     },
     "execution_count": 236,
     "metadata": {},
     "output_type": "execute_result"
    }
   ],
   "source": [
    "#import csv and read it. Data can be download in kaggle: https://www.kaggle.com/datasets/carrie1/ecommerce-data\n",
    "df_raw = pd.read_csv(\"E_Commerce_Data.csv\", encoding= 'unicode_escape')\n",
    "df= df_raw.copy()\n",
    "df"
   ]
  },
  {
   "cell_type": "code",
   "execution_count": 237,
   "id": "4cc31b4f",
   "metadata": {},
   "outputs": [
    {
     "name": "stdout",
     "output_type": "stream",
     "text": [
      "<class 'pandas.core.frame.DataFrame'>\n",
      "RangeIndex: 541909 entries, 0 to 541908\n",
      "Data columns (total 8 columns):\n",
      " #   Column       Non-Null Count   Dtype  \n",
      "---  ------       --------------   -----  \n",
      " 0   InvoiceNo    541909 non-null  object \n",
      " 1   StockCode    541909 non-null  object \n",
      " 2   Description  540455 non-null  object \n",
      " 3   Quantity     541909 non-null  int64  \n",
      " 4   InvoiceDate  541909 non-null  object \n",
      " 5   UnitPrice    541909 non-null  float64\n",
      " 6   CustomerID   406829 non-null  float64\n",
      " 7   Country      541909 non-null  object \n",
      "dtypes: float64(2), int64(1), object(5)\n",
      "memory usage: 33.1+ MB\n"
     ]
    }
   ],
   "source": [
    "#I check the data info, and see that there are missing value. There are also wrong data type in Invoice date\n",
    "df.info()"
   ]
  },
  {
   "cell_type": "code",
   "execution_count": 238,
   "id": "7de90a51",
   "metadata": {},
   "outputs": [
    {
     "data": {
      "text/html": [
       "<div>\n",
       "<style scoped>\n",
       "    .dataframe tbody tr th:only-of-type {\n",
       "        vertical-align: middle;\n",
       "    }\n",
       "\n",
       "    .dataframe tbody tr th {\n",
       "        vertical-align: top;\n",
       "    }\n",
       "\n",
       "    .dataframe thead th {\n",
       "        text-align: right;\n",
       "    }\n",
       "</style>\n",
       "<table border=\"1\" class=\"dataframe\">\n",
       "  <thead>\n",
       "    <tr style=\"text-align: right;\">\n",
       "      <th></th>\n",
       "      <th>Quantity</th>\n",
       "      <th>UnitPrice</th>\n",
       "      <th>CustomerID</th>\n",
       "    </tr>\n",
       "  </thead>\n",
       "  <tbody>\n",
       "    <tr>\n",
       "      <th>count</th>\n",
       "      <td>541909.000000</td>\n",
       "      <td>541909.000000</td>\n",
       "      <td>406829.000000</td>\n",
       "    </tr>\n",
       "    <tr>\n",
       "      <th>mean</th>\n",
       "      <td>9.552250</td>\n",
       "      <td>4.611114</td>\n",
       "      <td>15287.690570</td>\n",
       "    </tr>\n",
       "    <tr>\n",
       "      <th>std</th>\n",
       "      <td>218.081158</td>\n",
       "      <td>96.759853</td>\n",
       "      <td>1713.600303</td>\n",
       "    </tr>\n",
       "    <tr>\n",
       "      <th>min</th>\n",
       "      <td>-80995.000000</td>\n",
       "      <td>-11062.060000</td>\n",
       "      <td>12346.000000</td>\n",
       "    </tr>\n",
       "    <tr>\n",
       "      <th>25%</th>\n",
       "      <td>1.000000</td>\n",
       "      <td>1.250000</td>\n",
       "      <td>13953.000000</td>\n",
       "    </tr>\n",
       "    <tr>\n",
       "      <th>50%</th>\n",
       "      <td>3.000000</td>\n",
       "      <td>2.080000</td>\n",
       "      <td>15152.000000</td>\n",
       "    </tr>\n",
       "    <tr>\n",
       "      <th>75%</th>\n",
       "      <td>10.000000</td>\n",
       "      <td>4.130000</td>\n",
       "      <td>16791.000000</td>\n",
       "    </tr>\n",
       "    <tr>\n",
       "      <th>max</th>\n",
       "      <td>80995.000000</td>\n",
       "      <td>38970.000000</td>\n",
       "      <td>18287.000000</td>\n",
       "    </tr>\n",
       "  </tbody>\n",
       "</table>\n",
       "</div>"
      ],
      "text/plain": [
       "            Quantity      UnitPrice     CustomerID\n",
       "count  541909.000000  541909.000000  406829.000000\n",
       "mean        9.552250       4.611114   15287.690570\n",
       "std       218.081158      96.759853    1713.600303\n",
       "min    -80995.000000  -11062.060000   12346.000000\n",
       "25%         1.000000       1.250000   13953.000000\n",
       "50%         3.000000       2.080000   15152.000000\n",
       "75%        10.000000       4.130000   16791.000000\n",
       "max     80995.000000   38970.000000   18287.000000"
      ]
     },
     "execution_count": 238,
     "metadata": {},
     "output_type": "execute_result"
    }
   ],
   "source": [
    "#This is the description of variables. We know that there are outlier in Quantity and Unit Price\n",
    "df.describe()"
   ]
  },
  {
   "cell_type": "code",
   "execution_count": 239,
   "id": "7e0090f3",
   "metadata": {
    "scrolled": true
   },
   "outputs": [
    {
     "data": {
      "text/plain": [
       "5268"
      ]
     },
     "execution_count": 239,
     "metadata": {},
     "output_type": "execute_result"
    }
   ],
   "source": [
    "#looking for duplicated data. Here, there are 4944 duplicated data.\n",
    "df.duplicated().sum()"
   ]
  },
  {
   "cell_type": "code",
   "execution_count": 240,
   "id": "88e3ebe6",
   "metadata": {},
   "outputs": [
    {
     "data": {
      "text/plain": [
       "9288"
      ]
     },
     "execution_count": 240,
     "metadata": {},
     "output_type": "execute_result"
    }
   ],
   "source": [
    "#number of people cancell the order\n",
    "df_cancelled_order = df[df['InvoiceNo'].apply(lambda x: x[0:1]=='C')]\n",
    "df_cancelled_order['InvoiceNo'].count()"
   ]
  },
  {
   "cell_type": "markdown",
   "id": "5542fd7d",
   "metadata": {},
   "source": [
    "# 2. Data Cleaning"
   ]
  },
  {
   "cell_type": "code",
   "execution_count": 241,
   "id": "c2c4403d",
   "metadata": {
    "scrolled": true
   },
   "outputs": [],
   "source": [
    "#Change data type to right format\n",
    "df['InvoiceDate'] = pd.to_datetime(df['InvoiceDate'], format='%m/%d/%Y %H:%M')"
   ]
  },
  {
   "cell_type": "code",
   "execution_count": 242,
   "id": "2fc9b2bd",
   "metadata": {},
   "outputs": [
    {
     "name": "stdout",
     "output_type": "stream",
     "text": [
      "2010-12-01 08:26:00\n",
      "2011-12-09 12:50:00\n"
     ]
    }
   ],
   "source": [
    "#Know the max and min of InvoiceDate\n",
    "print(min(df['InvoiceDate']))\n",
    "print(max(df['InvoiceDate']))"
   ]
  },
  {
   "cell_type": "code",
   "execution_count": 243,
   "id": "a579cea7",
   "metadata": {},
   "outputs": [],
   "source": [
    "#We need data in one year, from 2010-12-09 to 2011-12-09\n",
    "df = df.loc[df['InvoiceDate']> '2010-12-09']"
   ]
  },
  {
   "cell_type": "code",
   "execution_count": 244,
   "id": "b80cf055",
   "metadata": {},
   "outputs": [
    {
     "data": {
      "text/plain": [
       "<AxesSubplot:xlabel='Quantity'>"
      ]
     },
     "execution_count": 244,
     "metadata": {},
     "output_type": "execute_result"
    },
    {
     "data": {
      "image/png": "[encoded data removed]",
      "text/plain": [
       "<Figure size 432x288 with 1 Axes>"
      ]
     },
     "metadata": {
      "needs_background": "light"
     },
     "output_type": "display_data"
    }
   ],
   "source": [
    "#Check outlier and erase it for Quantity and UnitPrice\n",
    "sns.boxplot(x=df[\"Quantity\"])"
   ]
  },
  {
   "cell_type": "code",
   "execution_count": 245,
   "id": "9cd4edc9",
   "metadata": {},
   "outputs": [],
   "source": [
    "def get_IQR(x):\n",
    "    q1 = np.percentile(x, 25)\n",
    "    q3 = np.percentile(x,75)\n",
    "    iqr=q3-q1\n",
    "    lower_limit = q1 - (iqr*1.5)\n",
    "    upper_limit = q3 + (iqr*1.5)\n",
    "    return lower_limit, upper_limit"
   ]
  },
  {
   "cell_type": "code",
   "execution_count": 246,
   "id": "8085b421",
   "metadata": {},
   "outputs": [],
   "source": [
    "x,y = get_IQR(df['Quantity'])"
   ]
  },
  {
   "cell_type": "code",
   "execution_count": 247,
   "id": "89d2c902",
   "metadata": {},
   "outputs": [],
   "source": [
    "df = df[(df['Quantity']>x) & (df['Quantity']<y)]"
   ]
  },
  {
   "cell_type": "code",
   "execution_count": 248,
   "id": "f883ccd7",
   "metadata": {},
   "outputs": [
    {
     "data": {
      "text/plain": [
       "<AxesSubplot:xlabel='Quantity'>"
      ]
     },
     "execution_count": 248,
     "metadata": {},
     "output_type": "execute_result"
    },
    {
     "data": {
      "image/png": "[encoded data removed]",
      "text/plain": [
       "<Figure size 432x288 with 1 Axes>"
      ]
     },
     "metadata": {
      "needs_background": "light"
     },
     "output_type": "display_data"
    }
   ],
   "source": [
    "sns.boxplot(x=df[\"Quantity\"])"
   ]
  },
  {
   "cell_type": "code",
   "execution_count": 249,
   "id": "df8aeecc",
   "metadata": {},
   "outputs": [],
   "source": [
    "#Erase minus data in quantity\n",
    "df=df[df['Quantity']>0]"
   ]
  },
  {
   "cell_type": "code",
   "execution_count": 250,
   "id": "adcaf3c6",
   "metadata": {},
   "outputs": [
    {
     "data": {
      "text/plain": [
       "<AxesSubplot:xlabel='Quantity'>"
      ]
     },
     "execution_count": 250,
     "metadata": {},
     "output_type": "execute_result"
    },
    {
     "data": {
      "image/png": "[encoded data removed]",
      "text/plain": [
       "<Figure size 432x288 with 1 Axes>"
      ]
     },
     "metadata": {
      "needs_background": "light"
     },
     "output_type": "display_data"
    }
   ],
   "source": [
    "sns.boxplot(x=df[\"Quantity\"])"
   ]
  },
  {
   "cell_type": "code",
   "execution_count": 251,
   "id": "ce137b69",
   "metadata": {},
   "outputs": [
    {
     "data": {
      "text/plain": [
       "<AxesSubplot:xlabel='UnitPrice'>"
      ]
     },
     "execution_count": 251,
     "metadata": {},
     "output_type": "execute_result"
    },
    {
     "data": {
      "image/png": "[encoded data removed]",
      "text/plain": [
       "<Figure size 432x288 with 1 Axes>"
      ]
     },
     "metadata": {
      "needs_background": "light"
     },
     "output_type": "display_data"
    }
   ],
   "source": [
    "sns.boxplot(x=df[\"UnitPrice\"])"
   ]
  },
  {
   "cell_type": "code",
   "execution_count": 252,
   "id": "de0f3a21",
   "metadata": {},
   "outputs": [],
   "source": [
    "x,y = get_IQR(df['UnitPrice'])"
   ]
  },
  {
   "cell_type": "code",
   "execution_count": 253,
   "id": "33917d9a",
   "metadata": {},
   "outputs": [],
   "source": [
    "df = df[(df['UnitPrice']>x) & (df['UnitPrice']<y)]"
   ]
  },
  {
   "cell_type": "code",
   "execution_count": 254,
   "id": "67b070a7",
   "metadata": {},
   "outputs": [
    {
     "data": {
      "text/plain": [
       "<AxesSubplot:xlabel='UnitPrice'>"
      ]
     },
     "execution_count": 254,
     "metadata": {},
     "output_type": "execute_result"
    },
    {
     "data": {
      "image/png": "[encoded data removed]",
      "text/plain": [
       "<Figure size 432x288 with 1 Axes>"
      ]
     },
     "metadata": {
      "needs_background": "light"
     },
     "output_type": "display_data"
    }
   ],
   "source": [
    "sns.boxplot(x=df['UnitPrice'])"
   ]
  },
  {
   "cell_type": "code",
   "execution_count": 255,
   "id": "0ec91805",
   "metadata": {},
   "outputs": [],
   "source": [
    "#Erase minus data in UnitPrice\n",
    "df=df[df['UnitPrice']>0]"
   ]
  },
  {
   "cell_type": "code",
   "execution_count": 256,
   "id": "8bdbc361",
   "metadata": {},
   "outputs": [
    {
     "data": {
      "text/plain": [
       "4644"
      ]
     },
     "execution_count": 256,
     "metadata": {},
     "output_type": "execute_result"
    }
   ],
   "source": [
    "#looking for duplicated data. Here, there are 4944 duplicated data.\n",
    "df.duplicated().sum()"
   ]
  },
  {
   "cell_type": "code",
   "execution_count": 257,
   "id": "bf8faf98",
   "metadata": {},
   "outputs": [],
   "source": [
    "#Erasing duplicated data\n",
    "df = df.drop_duplicates(keep='last')"
   ]
  },
  {
   "cell_type": "code",
   "execution_count": 258,
   "id": "8d845ba0",
   "metadata": {},
   "outputs": [
    {
     "data": {
      "text/plain": [
       "0"
      ]
     },
     "execution_count": 258,
     "metadata": {},
     "output_type": "execute_result"
    }
   ],
   "source": [
    "df.duplicated().sum()"
   ]
  },
  {
   "cell_type": "code",
   "execution_count": 259,
   "id": "f4234d26",
   "metadata": {},
   "outputs": [],
   "source": [
    "#Remove data with Cancelled Order\n",
    "df = df[df['InvoiceNo'].apply(lambda x: x[0:1]!='C')]"
   ]
  },
  {
   "cell_type": "code",
   "execution_count": 260,
   "id": "0d7627b2",
   "metadata": {},
   "outputs": [],
   "source": [
    "#Adding Total Payment variable\n",
    "df['Total Payment'] = df['Quantity'] * df['UnitPrice']"
   ]
  },
  {
   "cell_type": "code",
   "execution_count": 261,
   "id": "486a08e2",
   "metadata": {},
   "outputs": [],
   "source": [
    "#Adding variable of Hour, Days, Month, and Year\n",
    "df['Hour'] = pd.DatetimeIndex(df['InvoiceDate']).hour\n",
    "df['Day'] = pd.DatetimeIndex(df['InvoiceDate']).weekday\n",
    "df['Month'] =pd.DatetimeIndex(df['InvoiceDate']).month\n",
    "df['Year'] =pd.DatetimeIndex(df['InvoiceDate']).year"
   ]
  },
  {
   "cell_type": "code",
   "execution_count": 262,
   "id": "8b90ae29",
   "metadata": {
    "scrolled": true
   },
   "outputs": [],
   "source": [
    "#Change day date to day name.\n",
    "df['Day'] = df['Day'].map({0:'Monday', 1:'Tuesday', 2:'Wednesday', 3:'Thursday', 4:'Friday', 5:'Saturday',6:'Sunday'})"
   ]
  },
  {
   "cell_type": "markdown",
   "id": "a3042d2b",
   "metadata": {},
   "source": [
    "# 3. Explanatory Data Analysis"
   ]
  },
  {
   "cell_type": "code",
   "execution_count": 263,
   "id": "8b4cbe21",
   "metadata": {},
   "outputs": [
    {
     "data": {
      "text/html": [
       "<div>\n",
       "<style scoped>\n",
       "    .dataframe tbody tr th:only-of-type {\n",
       "        vertical-align: middle;\n",
       "    }\n",
       "\n",
       "    .dataframe tbody tr th {\n",
       "        vertical-align: top;\n",
       "    }\n",
       "\n",
       "    .dataframe thead th {\n",
       "        text-align: right;\n",
       "    }\n",
       "</style>\n",
       "<table border=\"1\" class=\"dataframe\">\n",
       "  <thead>\n",
       "    <tr style=\"text-align: right;\">\n",
       "      <th></th>\n",
       "      <th>Quantity</th>\n",
       "      <th>UnitPrice</th>\n",
       "      <th>CustomerID</th>\n",
       "      <th>Total Payment</th>\n",
       "      <th>Hour</th>\n",
       "      <th>Month</th>\n",
       "      <th>Year</th>\n",
       "    </tr>\n",
       "  </thead>\n",
       "  <tbody>\n",
       "    <tr>\n",
       "      <th>count</th>\n",
       "      <td>416346.000000</td>\n",
       "      <td>416346.000000</td>\n",
       "      <td>305882.000000</td>\n",
       "      <td>416346.000000</td>\n",
       "      <td>416346.000000</td>\n",
       "      <td>416346.000000</td>\n",
       "      <td>416346.000000</td>\n",
       "    </tr>\n",
       "    <tr>\n",
       "      <th>mean</th>\n",
       "      <td>4.993491</td>\n",
       "      <td>2.709221</td>\n",
       "      <td>15333.879914</td>\n",
       "      <td>10.901148</td>\n",
       "      <td>13.165855</td>\n",
       "      <td>7.409441</td>\n",
       "      <td>2010.956743</td>\n",
       "    </tr>\n",
       "    <tr>\n",
       "      <th>std</th>\n",
       "      <td>4.524308</td>\n",
       "      <td>1.945517</td>\n",
       "      <td>1701.194995</td>\n",
       "      <td>11.570871</td>\n",
       "      <td>2.422996</td>\n",
       "      <td>3.472646</td>\n",
       "      <td>0.203436</td>\n",
       "    </tr>\n",
       "    <tr>\n",
       "      <th>min</th>\n",
       "      <td>1.000000</td>\n",
       "      <td>0.001000</td>\n",
       "      <td>12347.000000</td>\n",
       "      <td>0.001000</td>\n",
       "      <td>6.000000</td>\n",
       "      <td>1.000000</td>\n",
       "      <td>2010.000000</td>\n",
       "    </tr>\n",
       "    <tr>\n",
       "      <th>25%</th>\n",
       "      <td>1.000000</td>\n",
       "      <td>1.250000</td>\n",
       "      <td>14036.000000</td>\n",
       "      <td>3.290000</td>\n",
       "      <td>11.000000</td>\n",
       "      <td>5.000000</td>\n",
       "      <td>2011.000000</td>\n",
       "    </tr>\n",
       "    <tr>\n",
       "      <th>50%</th>\n",
       "      <td>3.000000</td>\n",
       "      <td>2.080000</td>\n",
       "      <td>15249.000000</td>\n",
       "      <td>7.500000</td>\n",
       "      <td>13.000000</td>\n",
       "      <td>8.000000</td>\n",
       "      <td>2011.000000</td>\n",
       "    </tr>\n",
       "    <tr>\n",
       "      <th>75%</th>\n",
       "      <td>8.000000</td>\n",
       "      <td>3.750000</td>\n",
       "      <td>16818.000000</td>\n",
       "      <td>15.300000</td>\n",
       "      <td>15.000000</td>\n",
       "      <td>11.000000</td>\n",
       "      <td>2011.000000</td>\n",
       "    </tr>\n",
       "    <tr>\n",
       "      <th>max</th>\n",
       "      <td>23.000000</td>\n",
       "      <td>8.490000</td>\n",
       "      <td>18287.000000</td>\n",
       "      <td>194.810000</td>\n",
       "      <td>20.000000</td>\n",
       "      <td>12.000000</td>\n",
       "      <td>2011.000000</td>\n",
       "    </tr>\n",
       "  </tbody>\n",
       "</table>\n",
       "</div>"
      ],
      "text/plain": [
       "            Quantity      UnitPrice     CustomerID  Total Payment  \\\n",
       "count  416346.000000  416346.000000  305882.000000  416346.000000   \n",
       "mean        4.993491       2.709221   15333.879914      10.901148   \n",
       "std         4.524308       1.945517    1701.194995      11.570871   \n",
       "min         1.000000       0.001000   12347.000000       0.001000   \n",
       "25%         1.000000       1.250000   14036.000000       3.290000   \n",
       "50%         3.000000       2.080000   15249.000000       7.500000   \n",
       "75%         8.000000       3.750000   16818.000000      15.300000   \n",
       "max        23.000000       8.490000   18287.000000     194.810000   \n",
       "\n",
       "                Hour          Month           Year  \n",
       "count  416346.000000  416346.000000  416346.000000  \n",
       "mean       13.165855       7.409441    2010.956743  \n",
       "std         2.422996       3.472646       0.203436  \n",
       "min         6.000000       1.000000    2010.000000  \n",
       "25%        11.000000       5.000000    2011.000000  \n",
       "50%        13.000000       8.000000    2011.000000  \n",
       "75%        15.000000      11.000000    2011.000000  \n",
       "max        20.000000      12.000000    2011.000000  "
      ]
     },
     "execution_count": 263,
     "metadata": {},
     "output_type": "execute_result"
    }
   ],
   "source": [
    "#Descriptive data of numerical variable\n",
    "df.describe()"
   ]
  },
  {
   "cell_type": "markdown",
   "id": "6a16a0ab",
   "metadata": {},
   "source": [
    "### How many orders per day?"
   ]
  },
  {
   "cell_type": "code",
   "execution_count": 264,
   "id": "b520986e",
   "metadata": {},
   "outputs": [
    {
     "data": {
      "text/plain": [
       "Day\n",
       "Sunday       52050\n",
       "Friday       63596\n",
       "Wednesday    69606\n",
       "Monday       73401\n",
       "Tuesday      78525\n",
       "Thursday     79168\n",
       "Name: InvoiceNo, dtype: int64"
      ]
     },
     "execution_count": 264,
     "metadata": {},
     "output_type": "execute_result"
    }
   ],
   "source": [
    "#Here, we check the count of order by day.\n",
    "df.groupby('Day')['InvoiceNo'].count().sort_values()"
   ]
  },
  {
   "cell_type": "markdown",
   "id": "21da00b3",
   "metadata": {},
   "source": [
    "### How many orders per month?"
   ]
  },
  {
   "cell_type": "code",
   "execution_count": 265,
   "id": "1a72ece1",
   "metadata": {},
   "outputs": [
    {
     "data": {
      "text/plain": [
       "Month\n",
       "2     21816\n",
       "4     23550\n",
       "8     27584\n",
       "1     28478\n",
       "3     28812\n",
       "6     29040\n",
       "5     29141\n",
       "7     31658\n",
       "12    38788\n",
       "9     39567\n",
       "10    48669\n",
       "11    69243\n",
       "Name: InvoiceNo, dtype: int64"
      ]
     },
     "execution_count": 265,
     "metadata": {},
     "output_type": "execute_result"
    }
   ],
   "source": [
    "#Here, we check the count of order by Month.\n",
    "df.groupby('Month')['InvoiceNo'].count().sort_values()"
   ]
  },
  {
   "cell_type": "markdown",
   "id": "c07b751d",
   "metadata": {},
   "source": [
    "### How many orders per hour?"
   ]
  },
  {
   "cell_type": "code",
   "execution_count": 266,
   "id": "abfcbd9f",
   "metadata": {},
   "outputs": [
    {
     "data": {
      "text/plain": [
       "Hour\n",
       "6         1\n",
       "7       146\n",
       "8      6210\n",
       "9     25077\n",
       "10    34576\n",
       "11    42939\n",
       "12    60520\n",
       "13    56811\n",
       "14    51856\n",
       "15    61314\n",
       "16    44520\n",
       "17    22761\n",
       "18     6038\n",
       "19     2897\n",
       "20      680\n",
       "Name: InvoiceNo, dtype: int64"
      ]
     },
     "execution_count": 266,
     "metadata": {},
     "output_type": "execute_result"
    }
   ],
   "source": [
    "#Here, we check the count of order by Hour\n",
    "df.groupby('Hour')['InvoiceNo'].count()"
   ]
  },
  {
   "cell_type": "markdown",
   "id": "c832a98e",
   "metadata": {},
   "source": [
    "### Who are the people with the highest order?"
   ]
  },
  {
   "cell_type": "code",
   "execution_count": 267,
   "id": "5685f2cc",
   "metadata": {},
   "outputs": [
    {
     "data": {
      "text/plain": [
       "CustomerID\n",
       "17841.0    7137\n",
       "14096.0    4592\n",
       "14911.0    3988\n",
       "12748.0    3658\n",
       "14606.0    2393\n",
       "15311.0    1803\n",
       "13263.0    1610\n",
       "15039.0    1299\n",
       "13089.0    1205\n",
       "14159.0    1153\n",
       "Name: InvoiceNo, dtype: int64"
      ]
     },
     "execution_count": 267,
     "metadata": {},
     "output_type": "execute_result"
    }
   ],
   "source": [
    "#We find the top 10 buyer \n",
    "df.groupby('CustomerID')['InvoiceNo'].count().sort_values(ascending = False).head(10)"
   ]
  },
  {
   "cell_type": "markdown",
   "id": "c186fdc8",
   "metadata": {},
   "source": [
    "### What product is the most bought?"
   ]
  },
  {
   "cell_type": "code",
   "execution_count": 268,
   "id": "204b16b3",
   "metadata": {
    "scrolled": true
   },
   "outputs": [
    {
     "data": {
      "text/plain": [
       "Description\n",
       "JUMBO BAG RED RETROSPOT               13746\n",
       "ASSORTED COLOUR BIRD ORNAMENT         10559\n",
       "WHITE HANGING HEART T-LIGHT HOLDER    10423\n",
       "LUNCH BAG RED RETROSPOT               10276\n",
       "LUNCH BAG  BLACK SKULL.                7993\n",
       "LUNCH BAG CARS BLUE                    7761\n",
       "LUNCH BAG APPLE DESIGN                 7397\n",
       "JUMBO BAG PINK POLKADOT                7312\n",
       "JAM MAKING SET PRINTED                 7175\n",
       "LUNCH BAG SPACEBOY DESIGN              7149\n",
       "Name: Quantity, dtype: int64"
      ]
     },
     "execution_count": 268,
     "metadata": {},
     "output_type": "execute_result"
    }
   ],
   "source": [
    "#We check the most product bought\n",
    "df.groupby('Description')['Quantity'].sum().sort_values(ascending = False).head(10)"
   ]
  },
  {
   "cell_type": "markdown",
   "id": "c97ef735",
   "metadata": {},
   "source": [
    "### How many is the total order by country?"
   ]
  },
  {
   "cell_type": "code",
   "execution_count": 269,
   "id": "80584a6f",
   "metadata": {},
   "outputs": [
    {
     "data": {
      "text/plain": [
       "Country\n",
       "United Kingdom    386213\n",
       "Germany             6515\n",
       "France              6150\n",
       "EIRE                5362\n",
       "Spain               1889\n",
       "Belgium             1505\n",
       "Switzerland         1342\n",
       "Portugal            1153\n",
       "Norway               597\n",
       "Italy                565\n",
       "Name: InvoiceNo, dtype: int64"
      ]
     },
     "execution_count": 269,
     "metadata": {},
     "output_type": "execute_result"
    }
   ],
   "source": [
    "#We check the most highest purchase by country\n",
    "df.groupby('Country')['InvoiceNo'].count().sort_values(ascending = False).head(10)"
   ]
  },
  {
   "cell_type": "markdown",
   "id": "5655d065",
   "metadata": {},
   "source": [
    "### How much is the total revenue by country?"
   ]
  },
  {
   "cell_type": "code",
   "execution_count": 270,
   "id": "c721c870",
   "metadata": {},
   "outputs": [
    {
     "data": {
      "text/plain": [
       "Country\n",
       "United Kingdom    3994168.394\n",
       "Germany            119973.930\n",
       "France             103793.730\n",
       "EIRE               101011.280\n",
       "Spain               26695.760\n",
       "Switzerland         25744.310\n",
       "Belgium             25503.780\n",
       "Portugal            17902.290\n",
       "Norway              13082.860\n",
       "Netherlands         11726.420\n",
       "Name: Total Payment, dtype: float64"
      ]
     },
     "execution_count": 270,
     "metadata": {},
     "output_type": "execute_result"
    }
   ],
   "source": [
    "#We check the most highest revenue by country\n",
    "df.groupby('Country')['Total Payment'].sum().sort_values(ascending = False).head(10)"
   ]
  },
  {
   "cell_type": "markdown",
   "id": "7139b93d",
   "metadata": {},
   "source": [
    "### How is the cancellation rate?"
   ]
  },
  {
   "cell_type": "code",
   "execution_count": 291,
   "id": "a3441b4c",
   "metadata": {
    "scrolled": true
   },
   "outputs": [
    {
     "data": {
      "text/plain": [
       "1.71"
      ]
     },
     "execution_count": 291,
     "metadata": {},
     "output_type": "execute_result"
    }
   ],
   "source": [
    "round(len(df_raw[df_raw['InvoiceNo'].apply(lambda x: x[0:1]=='C')])/len(df_raw)*100,2)"
   ]
  },
  {
   "cell_type": "markdown",
   "id": "96327321",
   "metadata": {},
   "source": [
    "### How is the correlation of each variable?"
   ]
  },
  {
   "cell_type": "code",
   "execution_count": null,
   "id": "fd235294",
   "metadata": {},
   "outputs": [],
   "source": [
    "#See the Triangle Correlation Heatmap\n",
    "plt.figure(figsize=(16, 6))\n",
    "mask = np.triu(np.ones_like(df.corr(), dtype=np.bool))\n",
    "heatmap = sns.heatmap(df.corr(), mask=mask, vmin=-1, vmax=1, annot=True)\n",
    "heatmap.set_title('Triangle Correlation Heatmap', fontdict={'fontsize':18}, pad=16);"
   ]
  },
  {
   "cell_type": "markdown",
   "id": "7b606091",
   "metadata": {},
   "source": [
    "### How are the variance of each variable?"
   ]
  },
  {
   "cell_type": "code",
   "execution_count": null,
   "id": "5b4e50d9",
   "metadata": {
    "scrolled": true
   },
   "outputs": [],
   "source": [
    "#Search for the variance\n",
    "var_Quantity = stat.variance(df['Quantity'])\n",
    "var_UnitPrice = stat.variance(df['UnitPrice'])\n",
    "var_Total_Payment = stat.variance(df['Total Payment'])\n",
    "var_Hour = stat.variance(df['Hour'])\n",
    "\n",
    "print('variance of quantity = ',var_Quantity)\n",
    "print('variance of unit price = ',var_UnitPrice)\n",
    "print('variance of total payment =',var_Total_Payment)\n",
    "print('variance of hour',var_Hour)"
   ]
  },
  {
   "cell_type": "markdown",
   "id": "641a40bb",
   "metadata": {},
   "source": [
    "### How are the coefficient of variation of each variable?"
   ]
  },
  {
   "cell_type": "code",
   "execution_count": null,
   "id": "2b5424ee",
   "metadata": {},
   "outputs": [],
   "source": [
    "#Search for the coefficient of variation\n",
    "cov_Quantity = np.std(df['Quantity'])/np.mean(df['Quantity'])\n",
    "cov_UnitPrice = np.std(df['UnitPrice'])/np.mean(df['UnitPrice'])\n",
    "cov_Total_Payment = np.std(df['Total Payment'])/np.mean(df['UnitPrice'])\n",
    "cov_Hour = np.std(df['Hour'])/np.mean(df['UnitPrice'])\n",
    "\n",
    "print('coefficient of variation in quantity = ',cov_Quantity)\n",
    "print('coefficient of variation in unit price = ',cov_UnitPrice)\n",
    "print('coefficient of variation in total payment =',cov_Total_Payment)\n",
    "print('coefficient of variation in hour',cov_Hour)"
   ]
  },
  {
   "cell_type": "markdown",
   "id": "e2bd6c7d",
   "metadata": {},
   "source": [
    "### How are the skewness of each variable?"
   ]
  },
  {
   "cell_type": "code",
   "execution_count": null,
   "id": "1b40bf00",
   "metadata": {},
   "outputs": [],
   "source": [
    "df[['Quantity','UnitPrice','UnitPrice','UnitPrice']].skew()"
   ]
  },
  {
   "cell_type": "markdown",
   "id": "946c2bab",
   "metadata": {},
   "source": [
    "### How are the kurtosis of each variable?"
   ]
  },
  {
   "cell_type": "code",
   "execution_count": null,
   "id": "da2b7f6a",
   "metadata": {},
   "outputs": [],
   "source": [
    "df[['Quantity','UnitPrice','UnitPrice','UnitPrice']].kurtosis()"
   ]
  }
 ],
 "metadata": {
  "kernelspec": {
   "display_name": "Python 3 (ipykernel)",
   "language": "python",
   "name": "python3"
  },
  "language_info": {
   "codemirror_mode": {
    "name": "ipython",
    "version": 3
   },
   "file_extension": ".py",
   "mimetype": "text/x-python",
   "name": "python",
   "nbconvert_exporter": "python",
   "pygments_lexer": "ipython3",
   "version": "3.9.7"
  }
 },
 "nbformat": 4,
 "nbformat_minor": 5
}
